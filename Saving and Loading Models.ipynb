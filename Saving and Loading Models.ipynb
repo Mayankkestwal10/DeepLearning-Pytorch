{
 "cells": [
  {
   "cell_type": "code",
   "execution_count": 1,
   "metadata": {},
   "outputs": [],
   "source": [
    "import matplotlib.pyplot as plt\n",
    "import torch\n",
    "import torch.nn.functional as F\n",
    "from torchvision import transforms, datasets\n",
    "from torch import nn, optim\n",
    "import model, helper"
   ]
  },
  {
   "cell_type": "code",
   "execution_count": 2,
   "metadata": {},
   "outputs": [],
   "source": [
    "transform = transforms.Compose([transforms.ToTensor(), transforms.Normalize((0.5,),(0.5,))])"
   ]
  },
  {
   "cell_type": "code",
   "execution_count": 3,
   "metadata": {},
   "outputs": [],
   "source": [
    "trainset = datasets.FashionMNIST(\"/home/mayank/.pytorch/\", download=True, train=True, transform=transform)\n",
    "trainloader = torch.utils.data.DataLoader(trainset, batch_size=64, shuffle=True)"
   ]
  },
  {
   "cell_type": "code",
   "execution_count": 4,
   "metadata": {},
   "outputs": [],
   "source": [
    "testset = datasets.FashionMNIST(\"/home/mayank/.pytorch/\", download=True, train=False, transform=transform)\n",
    "testloader = torch.utils.data.DataLoader(testset, batch_size=64, shuffle=True)"
   ]
  },
  {
   "cell_type": "code",
   "execution_count": 5,
   "metadata": {},
   "outputs": [
    {
     "data": {
      "text/plain": [
       "<matplotlib.axes._subplots.AxesSubplot at 0x7fd38acc3400>"
      ]
     },
     "execution_count": 5,
     "metadata": {},
     "output_type": "execute_result"
    },
    {
     "data": {
      "image/png": "[encoded data removed]",
      "text/plain": [
       "<Figure size 432x288 with 1 Axes>"
      ]
     },
     "metadata": {
      "needs_background": "light"
     },
     "output_type": "display_data"
    }
   ],
   "source": [
    "image, label = next(iter(trainloader))\n",
    "helper.imshow(image[0,:])"
   ]
  },
  {
   "cell_type": "markdown",
   "metadata": {},
   "source": [
    "# Train Network"
   ]
  },
  {
   "cell_type": "code",
   "execution_count": 6,
   "metadata": {},
   "outputs": [],
   "source": [
    "classifier = model.Network(784, 10, [256, 128, 64])\n",
    "criterion = nn.NLLLoss()\n",
    "optimizer = optim.Adam(classifier.parameters(), lr=0.003)"
   ]
  },
  {
   "cell_type": "code",
   "execution_count": 7,
   "metadata": {},
   "outputs": [
    {
     "name": "stdout",
     "output_type": "stream",
     "text": [
      "Epoch: 1/2..  Training Loss: 1.696..  Test Loss: 0.997..  Test Accuracy: 0.638\n",
      "Epoch: 1/2..  Training Loss: 1.072..  Test Loss: 0.828..  Test Accuracy: 0.684\n",
      "Epoch: 1/2..  Training Loss: 0.957..  Test Loss: 0.748..  Test Accuracy: 0.713\n",
      "Epoch: 1/2..  Training Loss: 0.925..  Test Loss: 0.688..  Test Accuracy: 0.742\n",
      "Epoch: 1/2..  Training Loss: 0.835..  Test Loss: 0.661..  Test Accuracy: 0.757\n",
      "Epoch: 1/2..  Training Loss: 0.856..  Test Loss: 0.665..  Test Accuracy: 0.762\n",
      "Epoch: 1/2..  Training Loss: 0.885..  Test Loss: 0.676..  Test Accuracy: 0.744\n",
      "Epoch: 1/2..  Training Loss: 0.837..  Test Loss: 0.613..  Test Accuracy: 0.749\n",
      "Epoch: 1/2..  Training Loss: 0.803..  Test Loss: 0.622..  Test Accuracy: 0.773\n",
      "Epoch: 1/2..  Training Loss: 0.779..  Test Loss: 0.619..  Test Accuracy: 0.766\n",
      "Epoch: 1/2..  Training Loss: 0.785..  Test Loss: 0.607..  Test Accuracy: 0.772\n",
      "Epoch: 1/2..  Training Loss: 0.786..  Test Loss: 0.625..  Test Accuracy: 0.776\n",
      "Epoch: 1/2..  Training Loss: 0.736..  Test Loss: 0.581..  Test Accuracy: 0.782\n",
      "Epoch: 1/2..  Training Loss: 0.746..  Test Loss: 0.594..  Test Accuracy: 0.771\n",
      "Epoch: 1/2..  Training Loss: 0.757..  Test Loss: 0.591..  Test Accuracy: 0.787\n",
      "Epoch: 1/2..  Training Loss: 0.820..  Test Loss: 0.592..  Test Accuracy: 0.791\n",
      "Epoch: 1/2..  Training Loss: 0.771..  Test Loss: 0.582..  Test Accuracy: 0.774\n",
      "Epoch: 1/2..  Training Loss: 0.725..  Test Loss: 0.568..  Test Accuracy: 0.793\n",
      "Epoch: 1/2..  Training Loss: 0.714..  Test Loss: 0.559..  Test Accuracy: 0.803\n",
      "Epoch: 1/2..  Training Loss: 0.730..  Test Loss: 0.594..  Test Accuracy: 0.789\n",
      "Epoch: 1/2..  Training Loss: 0.735..  Test Loss: 0.559..  Test Accuracy: 0.799\n",
      "Epoch: 1/2..  Training Loss: 0.767..  Test Loss: 0.553..  Test Accuracy: 0.804\n",
      "Epoch: 1/2..  Training Loss: 0.763..  Test Loss: 0.555..  Test Accuracy: 0.805\n",
      "Epoch: 2/2..  Training Loss: 0.699..  Test Loss: 0.556..  Test Accuracy: 0.802\n",
      "Epoch: 2/2..  Training Loss: 0.678..  Test Loss: 0.574..  Test Accuracy: 0.802\n",
      "Epoch: 2/2..  Training Loss: 0.757..  Test Loss: 0.552..  Test Accuracy: 0.804\n",
      "Epoch: 2/2..  Training Loss: 0.734..  Test Loss: 0.562..  Test Accuracy: 0.800\n",
      "Epoch: 2/2..  Training Loss: 0.662..  Test Loss: 0.533..  Test Accuracy: 0.810\n",
      "Epoch: 2/2..  Training Loss: 0.707..  Test Loss: 0.539..  Test Accuracy: 0.798\n",
      "Epoch: 2/2..  Training Loss: 0.725..  Test Loss: 0.540..  Test Accuracy: 0.811\n",
      "Epoch: 2/2..  Training Loss: 0.722..  Test Loss: 0.545..  Test Accuracy: 0.807\n",
      "Epoch: 2/2..  Training Loss: 0.692..  Test Loss: 0.568..  Test Accuracy: 0.805\n",
      "Epoch: 2/2..  Training Loss: 0.737..  Test Loss: 0.522..  Test Accuracy: 0.819\n",
      "Epoch: 2/2..  Training Loss: 0.686..  Test Loss: 0.521..  Test Accuracy: 0.816\n",
      "Epoch: 2/2..  Training Loss: 0.693..  Test Loss: 0.512..  Test Accuracy: 0.826\n",
      "Epoch: 2/2..  Training Loss: 0.711..  Test Loss: 0.521..  Test Accuracy: 0.819\n",
      "Epoch: 2/2..  Training Loss: 0.664..  Test Loss: 0.511..  Test Accuracy: 0.816\n",
      "Epoch: 2/2..  Training Loss: 0.730..  Test Loss: 0.533..  Test Accuracy: 0.812\n",
      "Epoch: 2/2..  Training Loss: 0.704..  Test Loss: 0.558..  Test Accuracy: 0.801\n",
      "Epoch: 2/2..  Training Loss: 0.715..  Test Loss: 0.542..  Test Accuracy: 0.804\n",
      "Epoch: 2/2..  Training Loss: 0.703..  Test Loss: 0.524..  Test Accuracy: 0.817\n",
      "Epoch: 2/2..  Training Loss: 0.688..  Test Loss: 0.530..  Test Accuracy: 0.812\n",
      "Epoch: 2/2..  Training Loss: 0.764..  Test Loss: 0.520..  Test Accuracy: 0.818\n",
      "Epoch: 2/2..  Training Loss: 0.685..  Test Loss: 0.519..  Test Accuracy: 0.819\n",
      "Epoch: 2/2..  Training Loss: 0.671..  Test Loss: 0.537..  Test Accuracy: 0.813\n",
      "Epoch: 2/2..  Training Loss: 0.684..  Test Loss: 0.534..  Test Accuracy: 0.808\n"
     ]
    }
   ],
   "source": [
    "model.train(classifier, trainloader, testloader, criterion, optimizer, epochs=2)"
   ]
  },
  {
   "cell_type": "code",
   "execution_count": 11,
   "metadata": {},
   "outputs": [
    {
     "name": "stdout",
     "output_type": "stream",
     "text": [
      "Model :  Network(\n",
      "  (hidden_layers): ModuleList(\n",
      "    (0): Linear(in_features=784, out_features=256, bias=True)\n",
      "    (1): Linear(in_features=256, out_features=128, bias=True)\n",
      "    (2): Linear(in_features=128, out_features=64, bias=True)\n",
      "  )\n",
      "  (output): Linear(in_features=64, out_features=10, bias=True)\n",
      "  (dropout): Dropout(p=0.5)\n",
      ")\n",
      "State dictionary for model : odict_keys(['hidden_layers.0.weight', 'hidden_layers.0.bias', 'hidden_layers.1.weight', 'hidden_layers.1.bias', 'hidden_layers.2.weight', 'hidden_layers.2.bias', 'output.weight', 'output.bias'])\n"
     ]
    }
   ],
   "source": [
    "print(\"Model : \",classifier)\n",
    "print(\"State dictionary for model :\",classifier.state_dict().keys())"
   ]
  },
  {
   "cell_type": "code",
   "execution_count": 12,
   "metadata": {},
   "outputs": [],
   "source": [
    "torch.save(classifier.state_dict(),\"checkpoint.pth\")"
   ]
  },
  {
   "cell_type": "code",
   "execution_count": 13,
   "metadata": {},
   "outputs": [
    {
     "name": "stdout",
     "output_type": "stream",
     "text": [
      "odict_keys(['hidden_layers.0.weight', 'hidden_layers.0.bias', 'hidden_layers.1.weight', 'hidden_layers.1.bias', 'hidden_layers.2.weight', 'hidden_layers.2.bias', 'output.weight', 'output.bias'])\n"
     ]
    }
   ],
   "source": [
    "state_dict = torch.load(\"checkpoint.pth\")\n",
    "print(state_dict.keys())"
   ]
  },
  {
   "cell_type": "code",
   "execution_count": 16,
   "metadata": {},
   "outputs": [
    {
     "data": {
      "text/plain": [
       "IncompatibleKeys(missing_keys=[], unexpected_keys=[])"
      ]
     },
     "execution_count": 16,
     "metadata": {},
     "output_type": "execute_result"
    }
   ],
   "source": [
    "classifier.load_state_dict(state_dict=state_dict)"
   ]
  }
 ],
 "metadata": {
  "kernelspec": {
   "display_name": "Python 3",
   "language": "python",
   "name": "python3"
  },
  "language_info": {
   "codemirror_mode": {
    "name": "ipython",
    "version": 3
   },
   "file_extension": ".py",
   "mimetype": "text/x-python",
   "name": "python",
   "nbconvert_exporter": "python",
   "pygments_lexer": "ipython3",
   "version": "3.7.3"
  }
 },
 "nbformat": 4,
 "nbformat_minor": 2
}
