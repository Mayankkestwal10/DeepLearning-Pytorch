{
 "cells": [
  {
   "cell_type": "code",
   "execution_count": 1,
   "metadata": {},
   "outputs": [],
   "source": [
    "import torch"
   ]
  },
  {
   "cell_type": "code",
   "execution_count": 2,
   "metadata": {},
   "outputs": [],
   "source": [
    "def activation(x):\n",
    "    return 1/(1+torch.exp(-x))"
   ]
  },
  {
   "cell_type": "code",
   "execution_count": 3,
   "metadata": {},
   "outputs": [],
   "source": [
    "torch.manual_seed(7)\n",
    "\n",
    "features = torch.randn((1,5))\n",
    "weights = torch.randn_like(features)\n",
    "bias = torch.randn((1,1))"
   ]
  },
  {
   "cell_type": "code",
   "execution_count": 4,
   "metadata": {},
   "outputs": [
    {
     "data": {
      "text/plain": [
       "tensor([[-0.1468,  0.7861,  0.9468, -1.1143,  1.6908]])"
      ]
     },
     "execution_count": 4,
     "metadata": {},
     "output_type": "execute_result"
    }
   ],
   "source": [
    "features"
   ]
  },
  {
   "cell_type": "code",
   "execution_count": 5,
   "metadata": {},
   "outputs": [
    {
     "data": {
      "text/plain": [
       "tensor([[-0.8948, -0.3556,  1.2324,  0.1382, -1.6822]])"
      ]
     },
     "execution_count": 5,
     "metadata": {},
     "output_type": "execute_result"
    }
   ],
   "source": [
    "weights"
   ]
  },
  {
   "cell_type": "code",
   "execution_count": 6,
   "metadata": {},
   "outputs": [
    {
     "data": {
      "text/plain": [
       "tensor([[0.3177]])"
      ]
     },
     "execution_count": 6,
     "metadata": {},
     "output_type": "execute_result"
    }
   ],
   "source": [
    "bias"
   ]
  },
  {
   "cell_type": "code",
   "execution_count": 9,
   "metadata": {},
   "outputs": [
    {
     "data": {
      "text/plain": [
       "tensor([[0.1595]])"
      ]
     },
     "execution_count": 9,
     "metadata": {},
     "output_type": "execute_result"
    }
   ],
   "source": [
    "y = activation(torch.sum(features*weights)+bias)\n",
    "y"
   ]
  },
  {
   "cell_type": "code",
   "execution_count": 10,
   "metadata": {},
   "outputs": [
    {
     "ename": "RuntimeError",
     "evalue": "size mismatch, m1: [1 x 5], m2: [1 x 5] at /opt/conda/conda-bld/pytorch-cpu_1556653114183/work/aten/src/TH/generic/THTensorMath.cpp:961",
     "output_type": "error",
     "traceback": [
      "\u001b[0;31m---------------------------------------------------------------------------\u001b[0m",
      "\u001b[0;31mRuntimeError\u001b[0m                              Traceback (most recent call last)",
      "\u001b[0;32m<ipython-input-10-78cf304b0a46>\u001b[0m in \u001b[0;36m<module>\u001b[0;34m\u001b[0m\n\u001b[0;32m----> 1\u001b[0;31m \u001b[0my\u001b[0m \u001b[0;34m=\u001b[0m \u001b[0mactivation\u001b[0m\u001b[0;34m(\u001b[0m\u001b[0mtorch\u001b[0m\u001b[0;34m.\u001b[0m\u001b[0mmm\u001b[0m\u001b[0;34m(\u001b[0m\u001b[0mfeatures\u001b[0m\u001b[0;34m,\u001b[0m \u001b[0mweights\u001b[0m\u001b[0;34m)\u001b[0m\u001b[0;34m+\u001b[0m\u001b[0mbias\u001b[0m\u001b[0;34m)\u001b[0m\u001b[0;34m\u001b[0m\u001b[0;34m\u001b[0m\u001b[0m\n\u001b[0m\u001b[1;32m      2\u001b[0m \u001b[0my\u001b[0m\u001b[0;34m\u001b[0m\u001b[0;34m\u001b[0m\u001b[0m\n",
      "\u001b[0;31mRuntimeError\u001b[0m: size mismatch, m1: [1 x 5], m2: [1 x 5] at /opt/conda/conda-bld/pytorch-cpu_1556653114183/work/aten/src/TH/generic/THTensorMath.cpp:961"
     ]
    }
   ],
   "source": [
    "y = activation(torch.mm(features, weights)+bias)\n",
    "y"
   ]
  },
  {
   "cell_type": "code",
   "execution_count": 11,
   "metadata": {},
   "outputs": [
    {
     "data": {
      "text/plain": [
       "tensor([[0.1595]])"
      ]
     },
     "execution_count": 11,
     "metadata": {},
     "output_type": "execute_result"
    }
   ],
   "source": [
    "y = activation(torch.mm(features, weights.view(5,1))+bias)\n",
    "y"
   ]
  },
  {
   "cell_type": "markdown",
   "metadata": {},
   "source": [
    "<h2>Stack Them Up</h2>"
   ]
  },
  {
   "cell_type": "code",
   "execution_count": 12,
   "metadata": {},
   "outputs": [],
   "source": [
    "torch.manual_seed(7)\n",
    "\n",
    "features = torch.randn((1,3))\n",
    "\n",
    "n_input = features.shape[1]\n",
    "n_hidden = 2\n",
    "n_output = 1\n",
    "\n",
    "W1 = torch.randn((n_input, n_hidden))\n",
    "W2 = torch.randn((n_hidden, n_output))\n",
    "\n",
    "B1 = torch.randn((1, n_hidden))\n",
    "B2 = torch.randn((1, n_output))"
   ]
  },
  {
   "cell_type": "code",
   "execution_count": 13,
   "metadata": {},
   "outputs": [
    {
     "data": {
      "text/plain": [
       "tensor([[-0.1468,  0.7861,  0.9468]])"
      ]
     },
     "execution_count": 13,
     "metadata": {},
     "output_type": "execute_result"
    }
   ],
   "source": [
    "features"
   ]
  },
  {
   "cell_type": "code",
   "execution_count": 14,
   "metadata": {},
   "outputs": [
    {
     "data": {
      "text/plain": [
       "(tensor([[-1.1143,  1.6908],\n",
       "         [-0.8948, -0.3556],\n",
       "         [ 1.2324,  0.1382]]), tensor([[-1.6822],\n",
       "         [ 0.3177]]))"
      ]
     },
     "execution_count": 14,
     "metadata": {},
     "output_type": "execute_result"
    }
   ],
   "source": [
    "W1, W2"
   ]
  },
  {
   "cell_type": "code",
   "execution_count": 15,
   "metadata": {},
   "outputs": [
    {
     "data": {
      "text/plain": [
       "(tensor([[0.1328, 0.1373]]), tensor([[0.2405]]))"
      ]
     },
     "execution_count": 15,
     "metadata": {},
     "output_type": "execute_result"
    }
   ],
   "source": [
    "B1, B2"
   ]
  },
  {
   "cell_type": "code",
   "execution_count": 16,
   "metadata": {},
   "outputs": [
    {
     "data": {
      "text/plain": [
       "tensor([[0.3171]])"
      ]
     },
     "execution_count": 16,
     "metadata": {},
     "output_type": "execute_result"
    }
   ],
   "source": [
    "a1 = activation(torch.mm(features, W1)+B1)\n",
    "y = activation(torch.mm(a1, W2)+B2)\n",
    "y"
   ]
  },
  {
   "cell_type": "code",
   "execution_count": 17,
   "metadata": {},
   "outputs": [],
   "source": [
    "# Neural Network with 5 hidden layers for 10 training examples"
   ]
  },
  {
   "cell_type": "code",
   "execution_count": 31,
   "metadata": {},
   "outputs": [],
   "source": [
    "def NN(input_features, activation_function=activation):\n",
    "    torch.manual_seed(10)\n",
    "    n_input = input_features.shape[1]\n",
    "    n_hidden_1 = 4\n",
    "    n_hidden_2 = 4\n",
    "    n_hidden_3 = 3\n",
    "    n_hidden_4 = 3\n",
    "    n_hidden_5 = 2\n",
    "    n_output = 1\n",
    "    \n",
    "    \n",
    "    W1 = torch.randn((n_input, n_hidden_1))\n",
    "    W2 = torch.randn((n_hidden_1, n_hidden_2))\n",
    "    W3 = torch.randn((n_hidden_2, n_hidden_3))\n",
    "    W4 = torch.randn((n_hidden_3, n_hidden_4))\n",
    "    W5 = torch.randn((n_hidden_4, n_hidden_5))\n",
    "    W6 = torch.randn((n_hidden_5, n_output))\n",
    "    \n",
    "    B1 = torch.randn((1, n_hidden_1))\n",
    "    B2 = torch.randn((1, n_hidden_2))\n",
    "    B3 = torch.randn((1, n_hidden_3))\n",
    "    B4 = torch.randn((1, n_hidden_4))\n",
    "    B5 = torch.randn((1, n_hidden_5))\n",
    "    B6 = torch.randn((1, n_output))\n",
    "\n",
    "    \n",
    "    a1 = activation_function(torch.mm(input_features, W1)+B1)\n",
    "    a2 = activation_function(torch.mm(a1, W2)+B2)\n",
    "    a3 = activation_function(torch.mm(a2, W3)+B3)\n",
    "    a4 = activation_function(torch.mm(a3, W4)+B4)\n",
    "    a5 = activation_function(torch.mm(a4, W5)+B5)\n",
    "    output = activation_function(torch.mm(a5, W6)+B6)\n",
    "    \n",
    "    return output        "
   ]
  },
  {
   "cell_type": "code",
   "execution_count": 40,
   "metadata": {},
   "outputs": [
    {
     "data": {
      "text/plain": [
       "tensor([[-0.0725, -1.2696, -1.8333,  ...,  0.2979, -1.2432, -0.6054],\n",
       "        [-0.1444,  0.8446, -0.4789,  ...,  1.0724, -0.3375, -0.3492],\n",
       "        [-0.2595, -0.2028,  1.5568,  ...,  0.2793, -0.1203,  0.9931],\n",
       "        ...,\n",
       "        [-0.7466, -0.5029,  0.2985,  ...,  0.4879,  0.4705,  1.1719],\n",
       "        [-1.3513,  0.1624,  0.4855,  ..., -1.4455, -1.0362,  0.4156],\n",
       "        [-0.0838, -0.6889,  0.5133,  ..., -0.0326,  0.2229,  0.9739]])"
      ]
     },
     "execution_count": 40,
     "metadata": {},
     "output_type": "execute_result"
    }
   ],
   "source": [
    "features = torch.randn((10,128))\n",
    "features"
   ]
  },
  {
   "cell_type": "code",
   "execution_count": 41,
   "metadata": {},
   "outputs": [],
   "source": [
    "pred = NN(features, activation_function=activation)"
   ]
  },
  {
   "cell_type": "code",
   "execution_count": 42,
   "metadata": {},
   "outputs": [
    {
     "data": {
      "text/plain": [
       "tensor([[0.6677],\n",
       "        [0.6668],\n",
       "        [0.6686],\n",
       "        [0.6669],\n",
       "        [0.6688],\n",
       "        [0.6653],\n",
       "        [0.6687],\n",
       "        [0.6687],\n",
       "        [0.6664],\n",
       "        [0.6648]])"
      ]
     },
     "execution_count": 42,
     "metadata": {},
     "output_type": "execute_result"
    }
   ],
   "source": [
    "pred"
   ]
  },
  {
   "cell_type": "markdown",
   "metadata": {},
   "source": [
    "# Numpy to Torch and Back"
   ]
  },
  {
   "cell_type": "code",
   "execution_count": 44,
   "metadata": {},
   "outputs": [],
   "source": [
    "import numpy as np"
   ]
  },
  {
   "cell_type": "code",
   "execution_count": 46,
   "metadata": {},
   "outputs": [
    {
     "data": {
      "text/plain": [
       "array([[ 0.04995729,  0.41105945, -0.90218917,  0.38571073],\n",
       "       [-0.1656503 ,  0.82008159, -0.15869464, -0.49755932],\n",
       "       [ 0.8011092 , -0.1999307 ,  2.21472856,  0.23042605]])"
      ]
     },
     "execution_count": 46,
     "metadata": {},
     "output_type": "execute_result"
    }
   ],
   "source": [
    "a = np.random.randn(3,4)\n",
    "a"
   ]
  },
  {
   "cell_type": "code",
   "execution_count": 47,
   "metadata": {},
   "outputs": [
    {
     "data": {
      "text/plain": [
       "tensor([[ 0.0500,  0.4111, -0.9022,  0.3857],\n",
       "        [-0.1657,  0.8201, -0.1587, -0.4976],\n",
       "        [ 0.8011, -0.1999,  2.2147,  0.2304]], dtype=torch.float64)"
      ]
     },
     "execution_count": 47,
     "metadata": {},
     "output_type": "execute_result"
    }
   ],
   "source": [
    "p = torch.from_numpy(a)\n",
    "p"
   ]
  },
  {
   "cell_type": "code",
   "execution_count": 48,
   "metadata": {},
   "outputs": [
    {
     "data": {
      "text/plain": [
       "torch.float64"
      ]
     },
     "execution_count": 48,
     "metadata": {},
     "output_type": "execute_result"
    }
   ],
   "source": [
    "p.dtype"
   ]
  },
  {
   "cell_type": "code",
   "execution_count": 49,
   "metadata": {},
   "outputs": [
    {
     "data": {
      "text/plain": [
       "array([[ 0.04995729,  0.41105945, -0.90218917,  0.38571073],\n",
       "       [-0.1656503 ,  0.82008159, -0.15869464, -0.49755932],\n",
       "       [ 0.8011092 , -0.1999307 ,  2.21472856,  0.23042605]])"
      ]
     },
     "execution_count": 49,
     "metadata": {},
     "output_type": "execute_result"
    }
   ],
   "source": [
    "p.numpy()"
   ]
  },
  {
   "cell_type": "code",
   "execution_count": 50,
   "metadata": {},
   "outputs": [
    {
     "data": {
      "text/plain": [
       "tensor([[ 0.0500,  0.4111, -0.9022,  0.3857],\n",
       "        [-0.1657,  0.8201, -0.1587, -0.4976],\n",
       "        [ 0.8011, -0.1999,  2.2147,  0.2304]], dtype=torch.float64)"
      ]
     },
     "execution_count": 50,
     "metadata": {},
     "output_type": "execute_result"
    }
   ],
   "source": [
    "p"
   ]
  },
  {
   "cell_type": "code",
   "execution_count": 51,
   "metadata": {},
   "outputs": [
    {
     "data": {
      "text/plain": [
       "tensor([[ 0.0999,  0.8221, -1.8044,  0.7714],\n",
       "        [-0.3313,  1.6402, -0.3174, -0.9951],\n",
       "        [ 1.6022, -0.3999,  4.4295,  0.4609]], dtype=torch.float64)"
      ]
     },
     "execution_count": 51,
     "metadata": {},
     "output_type": "execute_result"
    }
   ],
   "source": [
    "# Memory is shared between numpy and tensors\n",
    "p.mul_(2)\n",
    "p"
   ]
  },
  {
   "cell_type": "code",
   "execution_count": 52,
   "metadata": {},
   "outputs": [
    {
     "data": {
      "text/plain": [
       "array([[ 0.09991459,  0.8221189 , -1.80437835,  0.77142146],\n",
       "       [-0.3313006 ,  1.64016318, -0.31738928, -0.99511865],\n",
       "       [ 1.6022184 , -0.39986139,  4.42945713,  0.46085209]])"
      ]
     },
     "execution_count": 52,
     "metadata": {},
     "output_type": "execute_result"
    }
   ],
   "source": [
    "a"
   ]
  }
 ],
 "metadata": {
  "kernelspec": {
   "display_name": "Python 3",
   "language": "python",
   "name": "python3"
  },
  "language_info": {
   "codemirror_mode": {
    "name": "ipython",
    "version": 3
   },
   "file_extension": ".py",
   "mimetype": "text/x-python",
   "name": "python",
   "nbconvert_exporter": "python",
   "pygments_lexer": "ipython3",
   "version": "3.7.3"
  }
 },
 "nbformat": 4,
 "nbformat_minor": 2
}
