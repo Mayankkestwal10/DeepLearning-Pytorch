{
 "cells": [
  {
   "cell_type": "markdown",
   "metadata": {},
   "source": [
    "# Neural Network (Pytorch)"
   ]
  },
  {
   "cell_type": "markdown",
   "metadata": {},
   "source": [
    "<p>Deep learning networks tend to be massive with dozens or hundreds of layers, that's where the term \"deep\" comes from. You can build one of these deep networks using only weight matrices as we did in the previous notebook, but in general it's very cumbersome and difficult to implement. PyTorch has a nice module nn that provides a nice way to efficiently build large neural networks.</p>"
   ]
  },
  {
   "cell_type": "code",
   "execution_count": 1,
   "metadata": {},
   "outputs": [],
   "source": [
    "import numpy as np\n",
    "import matplotlib.pyplot as plt\n",
    "%matplotlib inline"
   ]
  },
  {
   "cell_type": "markdown",
   "metadata": {},
   "source": [
    "# MNIST dataset"
   ]
  },
  {
   "cell_type": "code",
   "execution_count": 2,
   "metadata": {},
   "outputs": [],
   "source": [
    "import torch\n",
    "from torchvision import *\n",
    "\n",
    "transform = transforms.Compose([transforms.ToTensor(),transforms.Normalize((0.5,),(0.5,)),])\n",
    "\n",
    "train = datasets.MNIST('~/.pytorch/MNIST_data/', download=True, train=True, transform=transform)\n",
    "trainloader = torch.utils.data.DataLoader(train, batch_size=64, shuffle=True)"
   ]
  },
  {
   "cell_type": "code",
   "execution_count": 3,
   "metadata": {},
   "outputs": [
    {
     "data": {
      "text/plain": [
       "64"
      ]
     },
     "execution_count": 3,
     "metadata": {},
     "output_type": "execute_result"
    }
   ],
   "source": [
    "trainloader.batch_size"
   ]
  },
  {
   "cell_type": "code",
   "execution_count": 4,
   "metadata": {},
   "outputs": [
    {
     "data": {
      "text/plain": [
       "Dataset MNIST\n",
       "    Number of datapoints: 60000\n",
       "    Root location: /home/mayank/.pytorch/MNIST_data/\n",
       "    Split: Train"
      ]
     },
     "execution_count": 4,
     "metadata": {},
     "output_type": "execute_result"
    }
   ],
   "source": [
    "trainloader.dataset"
   ]
  },
  {
   "cell_type": "code",
   "execution_count": 5,
   "metadata": {},
   "outputs": [
    {
     "name": "stdout",
     "output_type": "stream",
     "text": [
      "<class 'torch.Tensor'>\n",
      "torch.Size([64, 1, 28, 28])\n",
      "torch.Size([64])\n"
     ]
    }
   ],
   "source": [
    "dataiter = iter(trainloader)\n",
    "images, labels = dataiter.next()\n",
    "print(type(images))\n",
    "print(images.shape)\n",
    "print(labels.shape)"
   ]
  },
  {
   "cell_type": "code",
   "execution_count": 6,
   "metadata": {},
   "outputs": [
    {
     "data": {
      "text/plain": [
       "<matplotlib.image.AxesImage at 0x7fa64f06acf8>"
      ]
     },
     "execution_count": 6,
     "metadata": {},
     "output_type": "execute_result"
    },
    {
     "data": {
      "image/png": "[encoded data removed]",
      "text/plain": [
       "<Figure size 432x288 with 1 Axes>"
      ]
     },
     "metadata": {
      "needs_background": "light"
     },
     "output_type": "display_data"
    }
   ],
   "source": [
    "plt.imshow(images[1].numpy().squeeze(), cmap='Greys_r')"
   ]
  },
  {
   "cell_type": "code",
   "execution_count": 7,
   "metadata": {},
   "outputs": [],
   "source": [
    "def activation(x):\n",
    "    return 1/(1+torch.exp(-x))\n",
    "\n",
    "inputs = images.view(images.shape[0],-1)\n",
    "\n",
    "w1 = torch.randn((inputs.shape[1], 256))\n",
    "b1 = torch.randn((256))\n",
    "\n",
    "w2 = torch.randn((256, 10))\n",
    "b2 = torch.randn((10))\n",
    "\n",
    "a1 = activation(torch.mm(inputs, w1)+b1)\n",
    "out = torch.mm(a1, w2) + b2"
   ]
  },
  {
   "cell_type": "code",
   "execution_count": 8,
   "metadata": {},
   "outputs": [],
   "source": [
    "def softmax(x):\n",
    "    return torch.exp(x)/torch.sum(torch.exp(x), dim=1).view(-1, 1)"
   ]
  },
  {
   "cell_type": "code",
   "execution_count": 9,
   "metadata": {},
   "outputs": [],
   "source": [
    "probabilities = softmax(out)"
   ]
  },
  {
   "cell_type": "code",
   "execution_count": 15,
   "metadata": {},
   "outputs": [
    {
     "data": {
      "text/plain": [
       "tensor([3, 3, 3, 5, 3, 7, 5, 7, 3, 3, 7, 7, 3, 3, 3, 3, 3, 3, 7, 3, 3, 7, 3, 3,\n",
       "        3, 3, 5, 3, 3, 3, 7, 7, 3, 3, 3, 3, 3, 4, 7, 3, 3, 3, 3, 3, 3, 5, 3, 7,\n",
       "        3, 3, 7, 3, 3, 0, 3, 3, 3, 7, 3, 3, 3, 1, 3, 7])"
      ]
     },
     "execution_count": 15,
     "metadata": {},
     "output_type": "execute_result"
    }
   ],
   "source": [
    "probabilities.argmax(dim=-1)"
   ]
  },
  {
   "cell_type": "markdown",
   "metadata": {},
   "source": [
    "# Neural Network in Pytorch"
   ]
  },
  {
   "cell_type": "code",
   "execution_count": 16,
   "metadata": {},
   "outputs": [],
   "source": [
    "from torch import nn"
   ]
  },
  {
   "cell_type": "code",
   "execution_count": 17,
   "metadata": {},
   "outputs": [],
   "source": [
    "class Network(nn.Module):\n",
    "    def __init__(self):\n",
    "        super().__init__()\n",
    "        \n",
    "        self.hidden = nn.Linear(784, 256)\n",
    "        self.output = nn.Linear(256, 10)\n",
    "        \n",
    "        self.sigmoid = nn.Sigmoid()\n",
    "        self.softmax = nn.Softmax(dim=1)\n",
    "        \n",
    "    def forward(self, x):\n",
    "        x = self.hidden(x)\n",
    "        x = self.sigmoid(x)\n",
    "        x = self.output(x)\n",
    "        x = self.softmax(x)\n",
    "        \n",
    "        return x"
   ]
  },
  {
   "cell_type": "code",
   "execution_count": 18,
   "metadata": {},
   "outputs": [
    {
     "data": {
      "text/plain": [
       "Network(\n",
       "  (hidden): Linear(in_features=784, out_features=256, bias=True)\n",
       "  (output): Linear(in_features=256, out_features=10, bias=True)\n",
       "  (sigmoid): Sigmoid()\n",
       "  (softmax): Softmax()\n",
       ")"
      ]
     },
     "execution_count": 18,
     "metadata": {},
     "output_type": "execute_result"
    }
   ],
   "source": [
    "model = Network()\n",
    "model"
   ]
  },
  {
   "cell_type": "code",
   "execution_count": 21,
   "metadata": {},
   "outputs": [],
   "source": [
    "import torch.nn.functional as F\n",
    "\n",
    "class Network(nn.Module):\n",
    "    def __init__(self):\n",
    "        super().__init__()\n",
    "        \n",
    "        self.hidden = nn.Linear(784, 256)\n",
    "        self.output = nn.Linear(256, 10)\n",
    "        \n",
    "    def forward(self, x):\n",
    "        x = F.sigmoid(self.hidden(x))\n",
    "        x = F.softmax(self.output(x), dim=1)\n",
    "        \n",
    "        return x"
   ]
  },
  {
   "cell_type": "code",
   "execution_count": 22,
   "metadata": {},
   "outputs": [
    {
     "data": {
      "text/plain": [
       "Network(\n",
       "  (hidden): Linear(in_features=784, out_features=256, bias=True)\n",
       "  (output): Linear(in_features=256, out_features=10, bias=True)\n",
       ")"
      ]
     },
     "execution_count": 22,
     "metadata": {},
     "output_type": "execute_result"
    }
   ],
   "source": [
    "model2 = Network()\n",
    "model2"
   ]
  },
  {
   "cell_type": "markdown",
   "metadata": {},
   "source": [
    "<b>Exercise</b>: Create a network with 784 input units, a hidden layer with 128 units and a ReLU activation, then a hidden layer with 64 units and a ReLU activation, and finally an output layer with a softmax activation as shown above. You can use a ReLU activation with the nn.ReLU module or F.relu function."
   ]
  },
  {
   "cell_type": "code",
   "execution_count": 23,
   "metadata": {},
   "outputs": [],
   "source": [
    "class NeuralNet(nn.Module):\n",
    "    def __init__(self):\n",
    "        super().__init__()\n",
    "        \n",
    "        self.hidden1 = nn.Linear(784,128)\n",
    "        self.hidden2 = nn.Linear(128, 64)\n",
    "        self.output = nn.Linear(64, 10)\n",
    "        \n",
    "    def forward(self, x):\n",
    "        x = F.relu(self.hidden1(x))\n",
    "        x = F.relu(self.hidden2(x))\n",
    "        x = F.softmax(self.output(x), dim=1)\n",
    "        \n",
    "        return x"
   ]
  },
  {
   "cell_type": "code",
   "execution_count": 24,
   "metadata": {},
   "outputs": [
    {
     "data": {
      "text/plain": [
       "NeuralNet(\n",
       "  (hidden1): Linear(in_features=784, out_features=128, bias=True)\n",
       "  (hidden2): Linear(in_features=128, out_features=64, bias=True)\n",
       "  (output): Linear(in_features=64, out_features=10, bias=True)\n",
       ")"
      ]
     },
     "execution_count": 24,
     "metadata": {},
     "output_type": "execute_result"
    }
   ],
   "source": [
    "model3 = NeuralNet()\n",
    "model3"
   ]
  },
  {
   "cell_type": "code",
   "execution_count": 26,
   "metadata": {},
   "outputs": [
    {
     "name": "stdout",
     "output_type": "stream",
     "text": [
      "Parameter containing:\n",
      "tensor([[ 0.0637,  0.0404,  0.0478,  ...,  0.0195,  0.0184,  0.0166],\n",
      "        [-0.0424, -0.0114,  0.0447,  ..., -0.0365, -0.0856, -0.0095],\n",
      "        [-0.0208, -0.0678,  0.0364,  ..., -0.0483,  0.0494,  0.0160],\n",
      "        ...,\n",
      "        [ 0.0335,  0.0745, -0.0684,  ...,  0.0371,  0.0707, -0.0407],\n",
      "        [ 0.0707,  0.0544,  0.0135,  ...,  0.0102, -0.0845,  0.0385],\n",
      "        [-0.0476, -0.0399, -0.0325,  ..., -0.0497,  0.0622,  0.0327]],\n",
      "       requires_grad=True)\n",
      "Parameter containing:\n",
      "tensor([ 0.0561, -0.0676, -0.0852,  0.0378,  0.0770, -0.0277,  0.0415,  0.0214,\n",
      "        -0.0399,  0.0043,  0.0042,  0.0395,  0.0174,  0.0339, -0.0830,  0.0297,\n",
      "         0.0705,  0.0409, -0.0436,  0.0061, -0.0539,  0.0771,  0.0176,  0.0300,\n",
      "        -0.0281,  0.0726,  0.0493, -0.0188,  0.0579,  0.0288, -0.0227, -0.0084,\n",
      "        -0.0625,  0.0820, -0.0653, -0.0563,  0.0450, -0.0392, -0.0299, -0.0590,\n",
      "        -0.0100, -0.0313,  0.0288, -0.0731, -0.0610,  0.0064,  0.0481,  0.0512,\n",
      "        -0.0765,  0.0554,  0.0773,  0.0324,  0.0392,  0.0578, -0.0228,  0.0058,\n",
      "         0.0054,  0.0063, -0.0620,  0.0505,  0.0496, -0.0790, -0.0704,  0.0088],\n",
      "       requires_grad=True)\n"
     ]
    }
   ],
   "source": [
    "# Weights and biases are automatically initialized for you\n",
    "print(model3.hidden2.weight)\n",
    "print(model3.hidden2.bias)"
   ]
  },
  {
   "cell_type": "code",
   "execution_count": 27,
   "metadata": {},
   "outputs": [
    {
     "data": {
      "text/plain": [
       "tensor([0., 0., 0., 0., 0., 0., 0., 0., 0., 0., 0., 0., 0., 0., 0., 0., 0., 0., 0., 0., 0., 0., 0., 0.,\n",
       "        0., 0., 0., 0., 0., 0., 0., 0., 0., 0., 0., 0., 0., 0., 0., 0., 0., 0., 0., 0., 0., 0., 0., 0.,\n",
       "        0., 0., 0., 0., 0., 0., 0., 0., 0., 0., 0., 0., 0., 0., 0., 0., 0., 0., 0., 0., 0., 0., 0., 0.,\n",
       "        0., 0., 0., 0., 0., 0., 0., 0., 0., 0., 0., 0., 0., 0., 0., 0., 0., 0., 0., 0., 0., 0., 0., 0.,\n",
       "        0., 0., 0., 0., 0., 0., 0., 0., 0., 0., 0., 0., 0., 0., 0., 0., 0., 0., 0., 0., 0., 0., 0., 0.,\n",
       "        0., 0., 0., 0., 0., 0., 0., 0.])"
      ]
     },
     "execution_count": 27,
     "metadata": {},
     "output_type": "execute_result"
    }
   ],
   "source": [
    "# set biases to zero\n",
    "model3.hidden1.bias.data.fill_(0)"
   ]
  },
  {
   "cell_type": "code",
   "execution_count": 28,
   "metadata": {},
   "outputs": [
    {
     "data": {
      "text/plain": [
       "tensor([-1.7043e-03,  6.9587e-03, -5.4615e-03, -1.2946e-03, -1.9161e-03,\n",
       "        -5.8330e-03,  1.7676e-04,  4.1796e-03,  5.8040e-03, -7.7148e-03,\n",
       "         5.6522e-03, -1.0591e-02, -1.3258e-02, -3.6532e-03,  6.3247e-03,\n",
       "        -1.8796e-03, -9.9431e-03,  3.6220e-03, -3.1607e-03,  4.1125e-03,\n",
       "         3.2140e-04,  5.6042e-03, -1.1273e-02,  8.3328e-03,  1.9059e-02,\n",
       "         4.5373e-03, -7.4468e-03, -1.9635e-02, -6.9324e-03, -4.9179e-03,\n",
       "        -5.7151e-03,  1.4498e-03, -3.6122e-04,  4.2753e-03, -6.9385e-03,\n",
       "        -6.9651e-03,  1.3953e-02, -1.0281e-02, -8.4345e-03, -7.7881e-03,\n",
       "        -7.2714e-03,  1.5049e-02,  7.9758e-04, -8.3875e-03, -6.9600e-04,\n",
       "        -1.4689e-02, -1.3753e-02,  3.5790e-03,  9.5741e-03,  5.9591e-05,\n",
       "         6.8126e-03, -7.6803e-03,  6.4860e-03,  1.1544e-02,  2.5154e-03,\n",
       "        -1.3675e-02, -1.5040e-02,  9.1557e-03,  1.1999e-02, -1.9081e-02,\n",
       "        -2.4007e-03, -4.0624e-03, -9.1129e-03,  3.5178e-03,  4.1759e-03,\n",
       "         7.5676e-03,  2.0113e-02,  6.2374e-04, -3.2970e-03, -1.0339e-02,\n",
       "         3.0166e-03, -1.1660e-02, -2.8711e-03, -1.1095e-02, -2.5247e-03,\n",
       "         1.0935e-02, -6.4428e-03, -1.0747e-03,  2.2696e-02, -6.6624e-03,\n",
       "        -1.4211e-02,  9.9821e-03,  6.8080e-03, -5.3062e-03, -1.3155e-02,\n",
       "         4.1074e-03,  6.4737e-03, -2.0270e-02, -9.3558e-03, -5.5333e-04,\n",
       "         1.6297e-03,  2.7294e-03,  4.0934e-05,  3.2129e-03, -1.6970e-02,\n",
       "        -4.7390e-03,  1.9979e-02,  1.0568e-02,  5.0252e-03, -1.6606e-02,\n",
       "        -1.8841e-02, -7.8714e-03, -3.7151e-04, -1.0952e-02,  1.0656e-02,\n",
       "         4.4500e-03, -7.8339e-03,  1.3628e-03,  1.5882e-03, -1.0234e-02,\n",
       "         2.1028e-02, -1.7075e-02, -1.0325e-03, -5.4479e-03,  3.5754e-03,\n",
       "        -9.6824e-03,  5.9149e-03,  1.1725e-02,  4.0698e-04,  3.6297e-03,\n",
       "        -4.9442e-04, -2.0268e-02, -2.0791e-02, -1.3847e-02, -5.6316e-03,\n",
       "         2.9887e-03, -3.3730e-03,  4.0009e-03])"
      ]
     },
     "execution_count": 28,
     "metadata": {},
     "output_type": "execute_result"
    }
   ],
   "source": [
    "model3.hidden1.bias.data.normal_(std=0.01)"
   ]
  },
  {
   "cell_type": "markdown",
   "metadata": {},
   "source": [
    "# Forward Pass"
   ]
  },
  {
   "cell_type": "code",
   "execution_count": 72,
   "metadata": {},
   "outputs": [
    {
     "data": {
      "image/png": "[encoded data removed]",
      "text/plain": [
       "<Figure size 432x504 with 2 Axes>"
      ]
     },
     "metadata": {
      "needs_background": "light"
     },
     "output_type": "display_data"
    }
   ],
   "source": [
    "import helper2\n",
    "# Grab some data \n",
    "dataiter = iter(trainloader)\n",
    "images, labels = dataiter.next()\n",
    "\n",
    "# Resize images into a 1D vector, new shape is (batch size, color channels, image pixels) \n",
    "images.resize_(64, 1, 784)\n",
    "# or images.resize_(images.shape[0], 1, 784) to automatically get batch size\n",
    "\n",
    "# Forward pass through the network\n",
    "img_idx = 1\n",
    "ps = model3.forward(images[img_idx,:])\n",
    "\n",
    "img = images[img_idx]\n",
    "helper2.view_classify(img.view(1, 28, 28), ps)"
   ]
  },
  {
   "cell_type": "markdown",
   "metadata": {},
   "source": [
    "# nn.Sequential"
   ]
  },
  {
   "cell_type": "code",
   "execution_count": 73,
   "metadata": {},
   "outputs": [
    {
     "name": "stdout",
     "output_type": "stream",
     "text": [
      "Sequential(\n",
      "  (0): Linear(in_features=786, out_features=128, bias=True)\n",
      "  (1): ReLU()\n",
      "  (2): Linear(in_features=128, out_features=64, bias=True)\n",
      "  (3): ReLU()\n",
      "  (4): Linear(in_features=64, out_features=10, bias=True)\n",
      "  (5): Softmax()\n",
      ")\n"
     ]
    }
   ],
   "source": [
    "input_size = 786\n",
    "hidden_sizes = [128, 64]\n",
    "output_size = 10\n",
    "\n",
    "model = nn.Sequential(nn.Linear(input_size, hidden_sizes[0]),\n",
    "                     nn.ReLU(),\n",
    "                     nn.Linear(hidden_sizes[0], hidden_sizes[1]),\n",
    "                     nn.ReLU(),\n",
    "                     nn.Linear(hidden_sizes[1],output_size),\n",
    "                     nn.Softmax(dim=1))\n",
    "\n",
    "print(model)"
   ]
  },
  {
   "cell_type": "code",
   "execution_count": 74,
   "metadata": {},
   "outputs": [
    {
     "name": "stdout",
     "output_type": "stream",
     "text": [
      "Linear(in_features=786, out_features=128, bias=True)\n"
     ]
    },
    {
     "data": {
      "text/plain": [
       "Parameter containing:\n",
       "tensor([[-0.0222, -0.0091, -0.0320,  ...,  0.0268, -0.0215, -0.0012],\n",
       "        [-0.0265,  0.0110,  0.0115,  ..., -0.0251,  0.0268, -0.0261],\n",
       "        [ 0.0333,  0.0282, -0.0131,  ..., -0.0296, -0.0054,  0.0329],\n",
       "        ...,\n",
       "        [ 0.0257,  0.0340, -0.0318,  ...,  0.0190,  0.0356,  0.0253],\n",
       "        [-0.0246,  0.0195, -0.0278,  ..., -0.0105,  0.0127, -0.0355],\n",
       "        [-0.0200, -0.0135,  0.0171,  ...,  0.0148, -0.0145, -0.0060]],\n",
       "       requires_grad=True)"
      ]
     },
     "execution_count": 74,
     "metadata": {},
     "output_type": "execute_result"
    }
   ],
   "source": [
    "print(model[0])\n",
    "model[0].weight"
   ]
  },
  {
   "cell_type": "code",
   "execution_count": 77,
   "metadata": {},
   "outputs": [
    {
     "name": "stdout",
     "output_type": "stream",
     "text": [
      "Sequential(\n",
      "  (fc1): Linear(in_features=786, out_features=128, bias=True)\n",
      "  (relu1): ReLU()\n",
      "  (fc2): Linear(in_features=128, out_features=64, bias=True)\n",
      "  (relu2): ReLU()\n",
      "  (fc3): Linear(in_features=64, out_features=10, bias=True)\n",
      "  (softmax): Softmax()\n",
      ")\n"
     ]
    }
   ],
   "source": [
    "from collections import OrderedDict\n",
    "model = nn.Sequential(OrderedDict([\n",
    "    ('fc1', nn.Linear(input_size, hidden_sizes[0])),\n",
    "    ('relu1', nn.ReLU()),\n",
    "    ('fc2', nn.Linear(hidden_sizes[0], hidden_sizes[1])),\n",
    "    ('relu2', nn.ReLU()),\n",
    "    ('fc3', nn.Linear(hidden_sizes[1], output_size)),\n",
    "    ('softmax', nn.Softmax(dim=1))\n",
    "]))\n",
    "\n",
    "print(model)"
   ]
  },
  {
   "cell_type": "code",
   "execution_count": 78,
   "metadata": {},
   "outputs": [
    {
     "name": "stdout",
     "output_type": "stream",
     "text": [
      "Linear(in_features=786, out_features=128, bias=True)\n",
      "Linear(in_features=786, out_features=128, bias=True)\n"
     ]
    }
   ],
   "source": [
    "print(model[0])\n",
    "print(model.fc1)"
   ]
  }
 ],
 "metadata": {
  "kernelspec": {
   "display_name": "Python 3",
   "language": "python",
   "name": "python3"
  },
  "language_info": {
   "codemirror_mode": {
    "name": "ipython",
    "version": 3
   },
   "file_extension": ".py",
   "mimetype": "text/x-python",
   "name": "python",
   "nbconvert_exporter": "python",
   "pygments_lexer": "ipython3",
   "version": "3.7.3"
  }
 },
 "nbformat": 4,
 "nbformat_minor": 2
}
