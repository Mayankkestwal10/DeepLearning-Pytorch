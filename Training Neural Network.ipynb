{
 "cells": [
  {
   "cell_type": "code",
   "execution_count": 7,
   "metadata": {},
   "outputs": [],
   "source": [
    "import torch\n",
    "from torch import nn\n",
    "import torch.nn.functional as F\n",
    "from torchvision import datasets, transforms"
   ]
  },
  {
   "cell_type": "code",
   "execution_count": 12,
   "metadata": {},
   "outputs": [],
   "source": [
    "transform = transforms.Compose([transforms.ToTensor(), transforms.Normalize((0.5,),(0.5,))])"
   ]
  },
  {
   "cell_type": "code",
   "execution_count": 13,
   "metadata": {},
   "outputs": [],
   "source": [
    "trainset = datasets.MNIST('/home/mayank/.pytorch/MNIST_data/', download=True, train=True, transform=transform)"
   ]
  },
  {
   "cell_type": "code",
   "execution_count": 14,
   "metadata": {},
   "outputs": [],
   "source": [
    "trainloader = torch.utils.data.DataLoader(trainset, batch_size=64, shuffle=True)"
   ]
  },
  {
   "cell_type": "code",
   "execution_count": 18,
   "metadata": {},
   "outputs": [
    {
     "name": "stdout",
     "output_type": "stream",
     "text": [
      "tensor(2.2907, grad_fn=<NllLossBackward>)\n"
     ]
    }
   ],
   "source": [
    "model = nn.Sequential(nn.Linear(784, 128), nn.ReLU(), nn.Linear(128, 64), nn.ReLU(), nn.Linear(64, 10))\n",
    "\n",
    "# Loss\n",
    "criterion = nn.CrossEntropyLoss()\n",
    "\n",
    "# data\n",
    "images, labels = next(iter(trainloader))\n",
    "# flatten\n",
    "images = images.view(images.shape[0], -1)\n",
    "# logits\n",
    "logits = model(images)\n",
    "\n",
    "# Calculate loss\n",
    "loss = criterion(logits, labels)\n",
    "\n",
    "print(loss)"
   ]
  },
  {
   "cell_type": "markdown",
   "metadata": {},
   "source": [
    "<b>Excercise</b><p>Build a model that returns the log-softmax as the output and calculate the loss using the negative log likelihood loss.</p>"
   ]
  },
  {
   "cell_type": "code",
   "execution_count": 21,
   "metadata": {},
   "outputs": [
    {
     "name": "stdout",
     "output_type": "stream",
     "text": [
      "tensor(2.2953, grad_fn=<NllLossBackward>)\n"
     ]
    }
   ],
   "source": [
    "model = nn.Sequential(\n",
    "     nn.Linear(784, 128),\n",
    "     nn.ReLU(),\n",
    "     nn.Linear(128, 64),\n",
    "     nn.ReLU(),\n",
    "     nn.Linear(64, 10),\n",
    "     nn.LogSoftmax(dim=1)\n",
    "  )\n",
    "\n",
    "criterion = nn.NLLLoss()\n",
    "\n",
    "images, labels = next(iter(trainloader))\n",
    "\n",
    "images = images.view(images.shape[0], -1)\n",
    "\n",
    "logps = model(images)\n",
    "\n",
    "loss = criterion(logps, labels)\n",
    "\n",
    "print(loss)"
   ]
  },
  {
   "cell_type": "markdown",
   "metadata": {},
   "source": [
    "# Loss and Autograd together"
   ]
  },
  {
   "cell_type": "code",
   "execution_count": 23,
   "metadata": {},
   "outputs": [
    {
     "name": "stdout",
     "output_type": "stream",
     "text": [
      "tensor(2.3070, grad_fn=<NllLossBackward>)\n"
     ]
    }
   ],
   "source": [
    "model = nn.Sequential(\n",
    "    nn.Linear(784, 128),\n",
    "    nn.ReLU(),\n",
    "    nn.Linear(128, 64),\n",
    "    nn.ReLU(),\n",
    "    nn.Linear(64, 10),\n",
    "    nn.LogSoftmax(dim=1)\n",
    ")\n",
    "\n",
    "criterion = nn.NLLLoss()\n",
    "\n",
    "images, labels = next(iter(trainloader))\n",
    "\n",
    "images = images.view(images.shape[0], -1)\n",
    "\n",
    "logps = model(images)\n",
    "\n",
    "loss = criterion(logps, labels)\n",
    "\n",
    "print(loss)"
   ]
  },
  {
   "cell_type": "code",
   "execution_count": 26,
   "metadata": {},
   "outputs": [
    {
     "name": "stdout",
     "output_type": "stream",
     "text": [
      "Before Backward Propagation\n",
      " None\n",
      "After Backward Propagation\n",
      " tensor([[0.0025, 0.0025, 0.0025,  ..., 0.0025, 0.0025, 0.0025],\n",
      "        [0.0004, 0.0004, 0.0004,  ..., 0.0004, 0.0004, 0.0004],\n",
      "        [0.0002, 0.0002, 0.0002,  ..., 0.0002, 0.0002, 0.0002],\n",
      "        ...,\n",
      "        [0.0014, 0.0014, 0.0014,  ..., 0.0014, 0.0014, 0.0014],\n",
      "        [0.0012, 0.0012, 0.0012,  ..., 0.0012, 0.0012, 0.0012],\n",
      "        [0.0019, 0.0019, 0.0019,  ..., 0.0019, 0.0019, 0.0019]])\n"
     ]
    }
   ],
   "source": [
    "print(\"Before Backward Propagation\\n\", model[0].weight.grad)\n",
    "loss.backward()\n",
    "print(\"After Backward Propagation\\n\", model[0].weight.grad)"
   ]
  },
  {
   "cell_type": "markdown",
   "metadata": {},
   "source": [
    "# Training the network!"
   ]
  },
  {
   "cell_type": "code",
   "execution_count": 27,
   "metadata": {},
   "outputs": [],
   "source": [
    "from torch import optim"
   ]
  },
  {
   "cell_type": "code",
   "execution_count": 28,
   "metadata": {},
   "outputs": [],
   "source": [
    "optimizer = optim.SGD(model.parameters(), lr=0.01)"
   ]
  },
  {
   "cell_type": "code",
   "execution_count": 29,
   "metadata": {},
   "outputs": [
    {
     "name": "stdout",
     "output_type": "stream",
     "text": [
      "Initial weights -  Parameter containing:\n",
      "tensor([[-0.0120, -0.0222,  0.0143,  ..., -0.0084,  0.0004, -0.0104],\n",
      "        [-0.0206,  0.0188,  0.0275,  ...,  0.0222, -0.0344, -0.0148],\n",
      "        [ 0.0313,  0.0129, -0.0095,  ...,  0.0269, -0.0284, -0.0101],\n",
      "        ...,\n",
      "        [-0.0015,  0.0232,  0.0117,  ..., -0.0331, -0.0168, -0.0142],\n",
      "        [ 0.0302,  0.0312,  0.0284,  ...,  0.0232, -0.0344,  0.0273],\n",
      "        [-0.0071,  0.0146, -0.0291,  ...,  0.0310, -0.0264, -0.0309]],\n",
      "       requires_grad=True)\n",
      "Gradient -  tensor([[-1.6118e-03, -1.6118e-03, -1.6118e-03,  ..., -1.6118e-03,\n",
      "         -1.6118e-03, -1.6118e-03],\n",
      "        [ 2.2514e-04,  2.2514e-04,  2.2514e-04,  ...,  2.2514e-04,\n",
      "          2.2514e-04,  2.2514e-04],\n",
      "        [ 9.9168e-04,  9.9168e-04,  9.9168e-04,  ...,  9.9168e-04,\n",
      "          9.9168e-04,  9.9168e-04],\n",
      "        ...,\n",
      "        [ 2.6923e-03,  2.6923e-03,  2.6923e-03,  ...,  2.6923e-03,\n",
      "          2.6923e-03,  2.6923e-03],\n",
      "        [-3.7644e-05, -3.7644e-05, -3.7644e-05,  ..., -3.7643e-05,\n",
      "         -3.7643e-05, -3.7643e-05],\n",
      "        [-4.5556e-03, -4.5556e-03, -4.5556e-03,  ..., -4.5556e-03,\n",
      "         -4.5556e-03, -4.5556e-03]])\n"
     ]
    }
   ],
   "source": [
    "print(\"Initial weights - \", model[0].weight)\n",
    "\n",
    "images, labels = next(iter(trainloader))\n",
    "images = images.view(images.shape[0], -1)\n",
    "\n",
    "output = model(images)\n",
    "loss = criterion(output, labels)\n",
    "loss.backward()\n",
    "print(\"Gradient - \", model[0].weight.grad)"
   ]
  },
  {
   "cell_type": "code",
   "execution_count": 30,
   "metadata": {},
   "outputs": [
    {
     "name": "stdout",
     "output_type": "stream",
     "text": [
      "Updated weights -  Parameter containing:\n",
      "tensor([[-0.0119, -0.0222,  0.0143,  ..., -0.0084,  0.0004, -0.0104],\n",
      "        [-0.0206,  0.0188,  0.0275,  ...,  0.0222, -0.0344, -0.0148],\n",
      "        [ 0.0313,  0.0129, -0.0095,  ...,  0.0269, -0.0284, -0.0101],\n",
      "        ...,\n",
      "        [-0.0016,  0.0232,  0.0117,  ..., -0.0331, -0.0169, -0.0142],\n",
      "        [ 0.0302,  0.0312,  0.0284,  ...,  0.0232, -0.0344,  0.0273],\n",
      "        [-0.0071,  0.0146, -0.0291,  ...,  0.0311, -0.0264, -0.0308]],\n",
      "       requires_grad=True)\n"
     ]
    }
   ],
   "source": [
    "optimizer.step()\n",
    "print(\"Updated weights - \", model[0].weight)"
   ]
  },
  {
   "cell_type": "markdown",
   "metadata": {},
   "source": [
    "# Training for real"
   ]
  },
  {
   "cell_type": "markdown",
   "metadata": {},
   "source": [
    "<p>Now we'll put this algorithm into a loop so we can go through all the images. Some nomenclature, one pass through the entire dataset is called an epoch. So here we're going to loop through trainloader to get our training batches. For each batch, we'll doing a training pass where we calculate the loss, do a backwards pass, and update the weights.</p>\n",
    "<br>\n",
    "<b>Excercise</b>\n",
    "<p>Implement the training pass for our network. If you implemented it correctly, you should see the training loss drop with each epoch.</p>"
   ]
  },
  {
   "cell_type": "code",
   "execution_count": 33,
   "metadata": {},
   "outputs": [
    {
     "name": "stdout",
     "output_type": "stream",
     "text": [
      "Training loss :  1.799680844934256\n",
      "Training loss :  0.7743649615534841\n",
      "Training loss :  0.4990922042937167\n",
      "Training loss :  0.41980519941620736\n",
      "Training loss :  0.3803307141131684\n"
     ]
    }
   ],
   "source": [
    "model = nn.Sequential(\n",
    "    nn.Linear(784, 128),\n",
    "    nn.ReLU(),\n",
    "    nn.Linear(128, 64),\n",
    "    nn.ReLU(),\n",
    "    nn.Linear(64, 10),\n",
    "    nn.LogSoftmax(dim=1)\n",
    ")\n",
    "\n",
    "criterion = nn.NLLLoss()\n",
    "optimizer = optim.SGD(model.parameters(), lr=0.003)\n",
    "\n",
    "epochs = 5\n",
    "\n",
    "for e in range(epochs):\n",
    "    running_loss = 0\n",
    "    for images, labels in trainloader:\n",
    "        images = images.view(images.shape[0], -1)\n",
    "        \n",
    "        optimizer.zero_grad()\n",
    "        \n",
    "        output = model(images)\n",
    "        loss = criterion(output, labels)\n",
    "        loss.backward()\n",
    "        optimizer.step()\n",
    "        running_loss+=loss.item()\n",
    "    else:\n",
    "        print(\"Training loss : \",running_loss/len(trainloader))"
   ]
  },
  {
   "cell_type": "code",
   "execution_count": 35,
   "metadata": {},
   "outputs": [
    {
     "data": {
      "image/png": "[encoded data removed]",
      "text/plain": [
       "<Figure size 432x504 with 2 Axes>"
      ]
     },
     "metadata": {
      "needs_background": "light"
     },
     "output_type": "display_data"
    }
   ],
   "source": [
    "%matplotlib inline\n",
    "import helper2\n",
    "\n",
    "images, labels = next(iter(trainloader))\n",
    "\n",
    "img = images[0].view(1, -1)\n",
    "\n",
    "with torch.no_grad():\n",
    "    logps = model(img)\n",
    "    \n",
    "ps = torch.exp(logps)\n",
    "helper2.view_classify(img.view(1, 28, 28), ps)"
   ]
  }
 ],
 "metadata": {
  "kernelspec": {
   "display_name": "Python 3",
   "language": "python",
   "name": "python3"
  },
  "language_info": {
   "codemirror_mode": {
    "name": "ipython",
    "version": 3
   },
   "file_extension": ".py",
   "mimetype": "text/x-python",
   "name": "python",
   "nbconvert_exporter": "python",
   "pygments_lexer": "ipython3",
   "version": "3.7.3"
  }
 },
 "nbformat": 4,
 "nbformat_minor": 2
}
